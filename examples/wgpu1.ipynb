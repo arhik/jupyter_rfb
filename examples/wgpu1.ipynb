{
 "cells": [
  {
   "cell_type": "markdown",
   "id": "9b08294a",
   "metadata": {},
   "source": [
    "# WGPU example\n",
    "\n",
    "**Note that this example depends on wgpu-py (`pip install -U wgpu`), and may need an update if the API of wgpu changes.**\n",
    "\n",
    "An example using low-level wgpu code. The first cell is simply a copy of wgpu-py's triangle.py example. "
   ]
  },
  {
   "cell_type": "code",
   "execution_count": 1,
   "id": "3d32ce94",
   "metadata": {},
   "outputs": [],
   "source": [
    "import wgpu\n",
    "\n",
    "\n",
    "# %% Shaders\n",
    "\n",
    "\n",
    "shader_source = \"\"\"\n",
    "struct VertexInput {\n",
    "    @builtin(vertex_index) vertex_index : u32\n",
    "};\n",
    "struct VertexOutput {\n",
    "    @location(0) color : vec4<f32>,\n",
    "    @builtin(position) pos: vec4<f32>\n",
    "};\n",
    "\n",
    "@stage(vertex)\n",
    "fn vs_main(in: VertexInput) -> VertexOutput {\n",
    "    var positions = array<vec2<f32>, 3>(vec2<f32>(0.0, -0.5), vec2<f32>(0.5, 0.5), vec2<f32>(-0.5, 0.7));\n",
    "    let index = i32(in.vertex_index);\n",
    "    let p: vec2<f32> = positions[index];\n",
    "\n",
    "    var out: VertexOutput;\n",
    "    out.pos = vec4<f32>(p, 0.0, 1.0);\n",
    "    out.color = vec4<f32>(p, 0.5, 1.0);\n",
    "    return out;\n",
    "}\n",
    "\n",
    "@stage(fragment)\n",
    "fn fs_main(in: VertexOutput) -> @location(0) vec4<f32> {\n",
    "    return in.color;\n",
    "}\n",
    "\"\"\"\n",
    "\n",
    "\n",
    "# %% The wgpu calls\n",
    "\n",
    "\n",
    "def main(canvas):\n",
    "    \"\"\"Regular function to setup a viz on the given canvas.\"\"\"\n",
    "    adapter = wgpu.request_adapter(canvas=canvas, power_preference=\"high-performance\")\n",
    "    device = adapter.request_device()\n",
    "    return _main(canvas, device)\n",
    "\n",
    "\n",
    "async def main_async(canvas):\n",
    "    \"\"\"Async function to setup a viz on the given canvas.\"\"\"\n",
    "    adapter = await wgpu.request_adapter_async(\n",
    "        canvas=canvas, power_preference=\"high-performance\"\n",
    "    )\n",
    "    device = await adapter.request_device_async(extensions=[], limits={})\n",
    "    return _main(canvas, device)\n",
    "\n",
    "\n",
    "def _main(canvas, device):\n",
    "\n",
    "    shader = device.create_shader_module(code=shader_source)\n",
    "\n",
    "    # No bind group and layout, we should not create empty ones.\n",
    "    pipeline_layout = device.create_pipeline_layout(bind_group_layouts=[])\n",
    "\n",
    "    present_context = canvas.get_context()\n",
    "    render_texture_format = present_context.get_preferred_format(device.adapter)\n",
    "    present_context.configure(device=device, format=render_texture_format)\n",
    "\n",
    "    render_pipeline = device.create_render_pipeline(\n",
    "        layout=pipeline_layout,\n",
    "        vertex={\n",
    "            \"module\": shader,\n",
    "            \"entry_point\": \"vs_main\",\n",
    "            \"buffers\": [],\n",
    "        },\n",
    "        primitive={\n",
    "            \"topology\": wgpu.PrimitiveTopology.triangle_list,\n",
    "            \"front_face\": wgpu.FrontFace.ccw,\n",
    "            \"cull_mode\": wgpu.CullMode.none,\n",
    "        },\n",
    "        depth_stencil=None,\n",
    "        multisample={\n",
    "            \"count\": 1,\n",
    "            \"mask\": 0xFFFFFFFF,\n",
    "            \"alpha_to_coverage_enabled\": False,\n",
    "        },\n",
    "        fragment={\n",
    "            \"module\": shader,\n",
    "            \"entry_point\": \"fs_main\",\n",
    "            \"targets\": [\n",
    "                {\n",
    "                    \"format\": render_texture_format,\n",
    "                    \"blend\": {\n",
    "                        \"color\": (\n",
    "                            wgpu.BlendFactor.one,\n",
    "                            wgpu.BlendFactor.zero,\n",
    "                            wgpu.BlendOperation.add,\n",
    "                        ),\n",
    "                        \"alpha\": (\n",
    "                            wgpu.BlendFactor.one,\n",
    "                            wgpu.BlendFactor.zero,\n",
    "                            wgpu.BlendOperation.add,\n",
    "                        ),\n",
    "                    },\n",
    "                },\n",
    "            ],\n",
    "        },\n",
    "    )\n",
    "\n",
    "    def draw_frame():\n",
    "        current_texture_view = present_context.get_current_texture()\n",
    "        command_encoder = device.create_command_encoder()\n",
    "\n",
    "        render_pass = command_encoder.begin_render_pass(\n",
    "            color_attachments=[\n",
    "                {\n",
    "                    \"view\": current_texture_view,\n",
    "                    \"resolve_target\": None,\n",
    "                    \"clear_value\": (0, 0, 0, 1),\n",
    "                    \"load_op\" : wgpu.LoadOp.load,\n",
    "                    \"store_op\": wgpu.StoreOp.store,\n",
    "                }\n",
    "            ],\n",
    "        )\n",
    "\n",
    "        render_pass.set_pipeline(render_pipeline)\n",
    "        # render_pass.set_bind_group(0, no_bind_group, [], 0, 1)\n",
    "        render_pass.draw(3, 1, 0, 0)\n",
    "        render_pass.end()\n",
    "        device.queue.submit([command_encoder.finish()])\n",
    "\n",
    "    canvas.request_draw(draw_frame)\n"
   ]
  },
  {
   "cell_type": "markdown",
   "id": "1c992985",
   "metadata": {},
   "source": [
    "Here we define a canvas. This should later be included in wgpu-py."
   ]
  },
  {
   "cell_type": "code",
   "execution_count": 2,
   "id": "e7eee7d0",
   "metadata": {},
   "outputs": [
    {
     "data": {
      "application/vnd.jupyter.widget-view+json": {
       "model_id": "bd288df88c1b4fd0a7d12f2ea2a7473c",
       "version_major": 2,
       "version_minor": 0
      },
      "text/plain": [
       "RFBOutputContext()"
      ]
     },
     "metadata": {},
     "output_type": "display_data"
    },
    {
     "data": {
      "text/html": [
       "<div class='initial-snapshot-179807111c1044b8a717bc587661b11b' style='position:relative;'><img src='data:image/png;base64,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' style='width:500.0px;height:300.0px;' /><div style='position: absolute; top:0; left:0; padding:1px 3px; background: #777; color:#fff; font-size: 90%; font-family:sans-serif; '>initial snapshot</div></div>"
      ],
      "text/plain": [
       "<jupyter_rfb._utils.Snapshot object>"
      ]
     },
     "metadata": {},
     "output_type": "display_data"
    },
    {
     "data": {
      "application/vnd.jupyter.widget-view+json": {
       "model_id": "179807111c1044b8a717bc587661b11b",
       "version_major": 2,
       "version_minor": 0
      },
      "text/plain": [
       "JupyterWgpuCanvas()"
      ]
     },
     "execution_count": 2,
     "metadata": {},
     "output_type": "execute_result"
    }
   ],
   "source": [
    "import wgpu.backends.rs\n",
    "from wgpu.gui.jupyter import WgpuCanvas\n",
    "\n",
    "canvas = WgpuCanvas()\n",
    "\n",
    "# Apply the triangle example to the canvas, and show it\n",
    "main(canvas)\n",
    "canvas"
   ]
  },
  {
   "cell_type": "code",
   "execution_count": null,
   "id": "2d9cdcd6",
   "metadata": {},
   "outputs": [],
   "source": []
  },
  {
   "cell_type": "code",
   "execution_count": null,
   "id": "7d3ad7f8-73b9-43c3-84be-dc89da69baaa",
   "metadata": {},
   "outputs": [],
   "source": []
  }
 ],
 "metadata": {
  "kernelspec": {
   "display_name": "Python 3 (ipykernel)",
   "language": "python",
   "name": "python3"
  },
  "language_info": {
   "codemirror_mode": {
    "name": "ipython",
    "version": 3
   },
   "file_extension": ".py",
   "mimetype": "text/x-python",
   "name": "python",
   "nbconvert_exporter": "python",
   "pygments_lexer": "ipython3",
   "version": "3.9.6"
  }
 },
 "nbformat": 4,
 "nbformat_minor": 5
}
